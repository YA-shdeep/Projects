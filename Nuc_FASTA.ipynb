{
 "cells": [
  {
   "cell_type": "code",
   "execution_count": 6,
   "id": "8b1fae09",
   "metadata": {},
   "outputs": [
    {
     "name": "stdout",
     "output_type": "stream",
     "text": [
      "C:\\Users\\Dell.000\\Desktop\\Local Repositories\\Projects\\Learning\n"
     ]
    }
   ],
   "source": [
    "cd Learning/"
   ]
  },
  {
   "cell_type": "code",
   "execution_count": 9,
   "id": "1ef5e0ee",
   "metadata": {},
   "outputs": [
    {
     "name": "stdout",
     "output_type": "stream",
     "text": [
      "Kindly provide file path: lect2_cds.fasta\n",
      "Enter your file name: Resdasfsf\n",
      "hello \n",
      "DNA Sequence: >D63521.1 HOMO SAPIENS MRNA FOR LECT2 PRECURSOR, COMPLETE CDS\n",
      "AAATCAAATAGCTATCCATGGAATATTAGAACTTGACTTGCTCCATCCTCTTAAACTTTTTGTGTCTCAC\n",
      "ACTAAAGAAATGAGAGATGCAGAATTCTAAGGCTAAATAGCTAGGAAGTATTCATTCAAACTTGAATATT\n",
      "CTTCAAAGAGAGTGTGGGGGCAACTCTAATCAGAGGAAGAAACTAAAGGAAGTAAAACCAGATGTTTTCC\n",
      "ACCAAAGCCCTCCTTTTGGCTGGTCTGATTTCTACCGCACTGGCAGGGCCATGGGCTAATATATGTGCTG\n",
      "GCAAGTCTTCCAATGAGATCCGGACGTGTGACCGCCATGGCTGTGGACAGTACTCTGCTCAAAGAAGTCA\n",
      "GAGGCCTCACCAGGGTGTGGACGTCTTGTGCTCTGCTGGATCTACTGTGTACGCACCATTCACTGGAATG\n",
      "ATTGTGGGCCAGGAGAAACCTTATCAAAACAAGAATGCTATCAATAATGGTGTTCGAATATCTGGAAGAG\n",
      "GTTTTTGTGTCAAAATGTTCTACATTAAGCCAATTAAGTATAAAGGTCCTATTAAGAAGGGAGAAAAACT\n",
      "TGGAACTCTATTGCCCTTGCAGAAAGTTTATCCTGGCATACAATCGCATGTGCACATTGAAAACTGTGAC\n",
      "TCGAGTGACCCTACTGCATACCTGTAAATCGAAGGCCAATGGTCAGATCTTCAAAATAAAAAGTCATCTT\n",
      "AAAAACCTGGATGCATACCCTTCTCTTCAAGAAATTTGTGTTCACAAAAGAAAAATGCATGAAGGGATGG\n",
      "ATACCCCATTTTCCATGACATGATTATTACACATTGCATGCCTGTATCAAAACATCTCACGTACCTCATA\n",
      "AACATATACACCTATGTACCCACAAAAATTTTTTAATTAAAAAAAGGAAATTTGAGTTTAAATAGAAACA\n",
      "TGATAAATGCAAGAAAGAAAACATTTTGATTTTAACTCATTGTCACTCTGATGTTCATGTGAACTGGTTG\n",
      "CTTCGGGCTCTTTGATCTGTCACCTATGGAATCTGAGTGGTTTTATTTTTTAGATTTCTCAGTCCCAAAG\n",
      "ATCTAAGATAAATAAACAAGAGAACTT\n",
      "\n",
      "\n",
      "Base Pairs: 1077\n",
      "Percentage of GC: 38.625812441968435\n",
      "Molecular Weight: 332920.39999999997\n",
      "Melting Point: 77.59783292795868\n",
      "\n"
     ]
    }
   ],
   "source": [
    "#author - DeepSims\n",
    "\n",
    "# Reading File path \n",
    "#file_path = \"lect2_cds.fasta\"\n",
    "def Read_file(file_path):\n",
    "    with open(file_path, \"r\") as dna_f1:\n",
    "        dna_seq = dna_f1.read().upper()\n",
    "        return dna_seq\n",
    "\n",
    "def Read_seq(file_path):\n",
    "    with open(file_path, \"r\") as Nuc_seq:\n",
    "        lines = Nuc_seq.readlines()[1:]  #  # divides lines into list [1:] skipping the header\n",
    "        seq = \"\".join(line.strip() for line in lines) #strip()\tReturns a trimmed version of the string /n,/t,/s\n",
    "        return seq  #lin is type list\n",
    "\n",
    "def Sequence_length(complete_sequence):\n",
    "    return len(complete_sequence)\n",
    "\n",
    "def per_nuc(complete_sequence):lect2_cds.fasta\n",
    "    A = complete_sequence.count('A')\n",
    "    G = complete_sequence.count('G')\n",
    "    T = complete_sequence.count('T')\n",
    "    C = complete_sequence.count('C')\n",
    "    base_pairs = Sequence_length(complete_sequence)\n",
    "\n",
    "    per_A = (A / base_pairs) * 100\n",
    "    per_G = (G / base_pairs) * 100\n",
    "    per_T = (T / base_pairs) * 100\n",
    "    per_C = (C / base_pairs) * 100\n",
    "    per_GC = per_G + per_C\n",
    "\n",
    "    return A, G, T, C, per_GC\n",
    "\n",
    "# Molecular Weight A 313.2: C 289.2: G 329.2: T 304.2 Dalton ( 1 Da = 1.66 e-24 gram)\n",
    "def mol_wt(A, C, G, T):\n",
    "    weigh = A * 313.2 + C * 289.2 + G * 329.2 + T * 304.2\n",
    "    return weigh\n",
    "\n",
    "def melting_point(A, T, G, C, base_pairs):\n",
    "    if base_pairs < 50:\n",
    "        return 2 * (A + T) + 4 * (G + C)\n",
    "    else:\n",
    "        try:\n",
    "            from Bio.SeqUtils import MeltingTemp as Mtemp\n",
    "            return Mtemp.Tm_NN(complete_sequence) # Applying Nearest_neighbour Thermodynamic Model \n",
    "        except ImportError:\n",
    "            print(\"Biopython is not installed. Cannot calculate melting temperature.\")\n",
    "            return None\n",
    "\n",
    "def Saving(new_file, dna_seq, base_pairs, per_GC, weigh, tm):\n",
    "    with open(new_file, \"w\") as result:\n",
    "        result.write(\"hello \\n\")\n",
    "        result.write(f\"DNA Sequence: {dna_seq}\\n\")\n",
    "        result.write(f\"Base Pairs: {base_pairs}\\n\")\n",
    "        result.write(f\"Percentage of GC: {per_GC}\\n\")\n",
    "        result.write(f\"Molecular Weight: {weigh}\\n\")\n",
    "        result.write(f\"Melting Point: {tm}\\n\")\n",
    "\n",
    "# Main execution\n",
    "file_path = input(\"Kindly provide file path: \")\n",
    "dna_seq = Read_file(file_path)\n",
    "complete_sequence = Read_seq(file_path)\n",
    "\n",
    "A, G, T, C, per_GC = per_nuc(complete_sequence)\n",
    "base_pairs = Sequence_length(complete_sequence)\n",
    "weigh = mol_wt(A, C, G, T)\n",
    "tm = melting_point(A, T, G, C, base_pairs)\n",
    "\n",
    "new_file_name = input(\"Enter your file name: \")\n",
    "Saving(new_file_name, dna_seq, base_pairs, per_GC, weigh, tm)\n",
    "\n",
    "# Reading the result file\n",
    "with open(new_file_name, \"r\") as result:\n",
    "    ss = result.read()\n",
    "    print(ss)\n"
   ]
  }
 ],
 "metadata": {
  "kernelspec": {
   "display_name": "Python 3 (ipykernel)",
   "language": "python",
   "name": "python3"
  },
  "language_info": {
   "codemirror_mode": {
    "name": "ipython",
    "version": 3
   },
   "file_extension": ".py",
   "mimetype": "text/x-python",
   "name": "python",
   "nbconvert_exporter": "python",
   "pygments_lexer": "ipython3",
   "version": "3.11.3"
  }
 },
 "nbformat": 4,
 "nbformat_minor": 5
}
